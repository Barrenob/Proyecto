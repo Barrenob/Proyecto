{
 "cells": [
  {
   "cell_type": "code",
   "execution_count": 1,
   "id": "4df017be-7618-4c3d-90ea-8ebe7bcde2eb",
   "metadata": {
    "tags": []
   },
   "outputs": [],
   "source": [
    "import numpy as np\n",
    "import pandas as pd\n",
    "import seaborn as sns\n",
    "import matplotlib.pyplot as plt"
   ]
  },
  {
   "cell_type": "markdown",
   "id": "3dd865dd-3c8a-4c93-b9c4-a70b5b0c08fa",
   "metadata": {
    "tags": []
   },
   "source": [
    "### 1.Crear un entorno de anaconda con los paquetes que considere necesarios.\n",
    "### 2. Usando sclicing con NumPy separar los datos en 2 datasets: \n",
    "#entrenamiento(80 %) y validaci´on y pruebas(20 %).\n"
   ]
  },
  {
   "cell_type": "code",
   "execution_count": 2,
   "id": "37df0d8d-859d-4816-973a-e5d701eb3949",
   "metadata": {
    "tags": []
   },
   "outputs": [],
   "source": [
    "dataset = np.load('proyecto_training_data.npy')"
   ]
  },
  {
   "cell_type": "code",
   "execution_count": 3,
   "id": "b24ba562-cc8f-4fbc-b571-dcd8d1ef13e8",
   "metadata": {
    "tags": []
   },
   "outputs": [
    {
     "data": {
      "text/plain": [
       "array([[2.08500e+05, 7.00000e+00, 8.56000e+02, 8.00000e+00, 2.00300e+03,\n",
       "        6.50000e+01],\n",
       "       [1.81500e+05, 6.00000e+00, 1.26200e+03, 6.00000e+00, 1.97600e+03,\n",
       "        8.00000e+01],\n",
       "       [2.23500e+05, 7.00000e+00, 9.20000e+02, 6.00000e+00, 2.00100e+03,\n",
       "        6.80000e+01],\n",
       "       ...,\n",
       "       [2.66500e+05, 7.00000e+00, 1.18800e+03, 9.00000e+00, 1.94100e+03,\n",
       "        6.60000e+01],\n",
       "       [1.42125e+05, 5.00000e+00, 1.07800e+03, 5.00000e+00, 1.95000e+03,\n",
       "        6.80000e+01],\n",
       "       [1.47500e+05, 5.00000e+00, 1.25600e+03, 6.00000e+00, 1.96500e+03,\n",
       "        7.50000e+01]])"
      ]
     },
     "execution_count": 3,
     "metadata": {},
     "output_type": "execute_result"
    }
   ],
   "source": [
    "dataset"
   ]
  },
  {
   "cell_type": "code",
   "execution_count": 4,
   "id": "48dc4280-9223-4815-a81e-5c962c9a1624",
   "metadata": {
    "tags": []
   },
   "outputs": [
    {
     "data": {
      "text/plain": [
       "(1460, 6)"
      ]
     },
     "execution_count": 4,
     "metadata": {},
     "output_type": "execute_result"
    }
   ],
   "source": [
    "dataset.shape"
   ]
  },
  {
   "cell_type": "code",
   "execution_count": 5,
   "id": "00054006-ed2d-48de-8086-d8cdf9c603e8",
   "metadata": {
    "tags": []
   },
   "outputs": [],
   "source": [
    "dataset = np.array([[2.08500e+05, 7.00000e+00, 8.56000e+02, 8.00000e+00, 2.00300e+03, 6.50000e+01],\n",
    "                [1.81500e+05, 6.00000e+00, 1.26200e+03, 6.00000e+00, 1.97600e+03, 8.00000e+01],\n",
    "                [2.23500e+05, 7.00000e+00, 9.20000e+02, 6.00000e+00, 2.00100e+03, 6.80000e+01],\n",
    "                [2.66500e+05, 7.00000e+00, 1.18800e+03, 9.00000e+00, 1.94100e+03, 6.60000e+01],\n",
    "                [1.42125e+05, 5.00000e+00, 1.07800e+03, 5.00000e+00, 1.95000e+03, 6.80000e+01],\n",
    "                [1.47500e+05, 5.00000e+00, 1.25600e+03, 6.00000e+00, 1.96500e+03, 7.50000e+01]])"
   ]
  },
  {
   "cell_type": "code",
   "execution_count": 6,
   "id": "123d43c9-7e3e-456f-abcb-fdb60d9b0086",
   "metadata": {
    "tags": []
   },
   "outputs": [],
   "source": [
    "df = pd.DataFrame(dataset, columns=['colA', 'colB', 'colC', 'colD', 'colE', 'colF'])"
   ]
  },
  {
   "cell_type": "code",
   "execution_count": 7,
   "id": "89d7d2f6-074c-401b-86d0-99b7757b48bd",
   "metadata": {
    "tags": []
   },
   "outputs": [
    {
     "name": "stdout",
     "output_type": "stream",
     "text": [
      "       colA  colB    colC  colD    colE  colF\n",
      "0  208500.0   7.0   856.0   8.0  2003.0  65.0\n",
      "1  181500.0   6.0  1262.0   6.0  1976.0  80.0\n",
      "2  223500.0   7.0   920.0   6.0  2001.0  68.0\n",
      "3  266500.0   7.0  1188.0   9.0  1941.0  66.0\n",
      "4  142125.0   5.0  1078.0   5.0  1950.0  68.0\n",
      "5  147500.0   5.0  1256.0   6.0  1965.0  75.0\n"
     ]
    }
   ],
   "source": [
    "print(df)"
   ]
  },
  {
   "cell_type": "code",
   "execution_count": 8,
   "id": "85ccb918-1bb1-4968-aa9a-d30abc18008d",
   "metadata": {
    "tags": []
   },
   "outputs": [
    {
     "data": {
      "text/plain": [
       "Index(['colA', 'colB', 'colC', 'colD', 'colE', 'colF'], dtype='object')"
      ]
     },
     "execution_count": 8,
     "metadata": {},
     "output_type": "execute_result"
    }
   ],
   "source": [
    "df.columns"
   ]
  },
  {
   "cell_type": "code",
   "execution_count": 9,
   "id": "7d2128a0-88f5-4edf-a6e9-915b50231ae1",
   "metadata": {
    "tags": []
   },
   "outputs": [
    {
     "name": "stdout",
     "output_type": "stream",
     "text": [
      "colA: 0.0\n",
      "colB: 0.0\n",
      "colC: 0.0\n",
      "colD: 0.0\n",
      "colE: 0.0\n",
      "colF: 0.0\n"
     ]
    }
   ],
   "source": [
    "columnas = df.columns\n",
    "for col in columnas:\n",
    "    porcentaje_na = df [col].isnull().mean()\n",
    "    print(f\"{col}: {porcentaje_na}\")"
   ]
  },
  {
   "cell_type": "code",
   "execution_count": 10,
   "id": "c2ce2b0e-0e8f-4c83-aa1d-d852540738d5",
   "metadata": {
    "tags": []
   },
   "outputs": [
    {
     "data": {
      "text/plain": [
       "colA    float64\n",
       "colB    float64\n",
       "colC    float64\n",
       "colD    float64\n",
       "colE    float64\n",
       "colF    float64\n",
       "dtype: object"
      ]
     },
     "execution_count": 10,
     "metadata": {},
     "output_type": "execute_result"
    }
   ],
   "source": [
    "df.dtypes"
   ]
  },
  {
   "cell_type": "code",
   "execution_count": 11,
   "id": "d32d8f5c-8236-488a-b1e8-f15e7a7e2bcd",
   "metadata": {
    "tags": []
   },
   "outputs": [],
   "source": [
    "from sklearn.model_selection import train_test_split\n"
   ]
  },
  {
   "cell_type": "code",
   "execution_count": 12,
   "id": "4a5d907a-9064-4400-a46d-86d014e9a002",
   "metadata": {
    "tags": []
   },
   "outputs": [],
   "source": [
    "X_train, X_test = train_test_split(dataset, test_size=0.2, random_state=80)"
   ]
  },
  {
   "cell_type": "code",
   "execution_count": 13,
   "id": "cd5fe07c-f9aa-40d6-b5f9-27ef32276bb5",
   "metadata": {
    "tags": []
   },
   "outputs": [],
   "source": [
    "X_train, X_val = train_test_split(X_train, test_size=0.2, random_state=80)"
   ]
  },
  {
   "cell_type": "code",
   "execution_count": 14,
   "id": "a06366b1-6271-4e18-8f1c-9ca390743c5e",
   "metadata": {
    "tags": []
   },
   "outputs": [
    {
     "name": "stdout",
     "output_type": "stream",
     "text": [
      "Forma de conjunto de entrenamiento: (3, 6)\n",
      "Forma de conjunto de validación: (1, 6)\n",
      "Forma de conjunto de prueba: (2, 6)\n"
     ]
    }
   ],
   "source": [
    "print(\"Forma de conjunto de entrenamiento:\", X_train.shape)\n",
    "print(\"Forma de conjunto de validación:\", X_val.shape)\n",
    "print(\"Forma de conjunto de prueba:\", X_test.shape)\n"
   ]
  },
  {
   "cell_type": "code",
   "execution_count": null,
   "id": "a8378154-4fce-4d23-bfe0-98dcf73e19c3",
   "metadata": {},
   "outputs": [],
   "source": []
  },
  {
   "cell_type": "markdown",
   "id": "f6f31ade-a47e-4f22-a61e-bc9b3ec0fc44",
   "metadata": {
    "tags": []
   },
   "source": [
    "### 3. An´alisis exploratorio de datos: Para cada variable en el dataset calcular\n",
    "#((usando numpy o pandas):\n",
    "#media\n",
    "#valor m´aximo\n",
    "#valor m´ınimo\n",
    "#rango(peak to peak, no el rango del tensor que por ser vector sabemos que es 1)\n",
    "#desviaci´on est´andar."
   ]
  },
  {
   "cell_type": "code",
   "execution_count": 15,
   "id": "1082dd84-965c-48cf-9e21-f0bb9dcfb293",
   "metadata": {
    "tags": []
   },
   "outputs": [],
   "source": [
    "summary = df.describe()"
   ]
  },
  {
   "cell_type": "code",
   "execution_count": 16,
   "id": "7e84a863-b6bd-49d6-ad05-523d4e0c75e7",
   "metadata": {
    "tags": []
   },
   "outputs": [],
   "source": [
    "peak_to_peak = summary.loc[['max', 'min']].apply(lambda x: x[0] - x[1])\n",
    "summary.loc['peak_to_peak'] = peak_to_peak"
   ]
  },
  {
   "cell_type": "code",
   "execution_count": 17,
   "id": "48891ed4-c398-474c-bb57-345dd4d55e56",
   "metadata": {
    "tags": []
   },
   "outputs": [
    {
     "name": "stdout",
     "output_type": "stream",
     "text": [
      "                       colA      colB         colC      colD         colE  \\\n",
      "count              6.000000  6.000000     6.000000  6.000000     6.000000   \n",
      "mean          194937.500000  6.166667  1093.333333  6.666667  1972.666667   \n",
      "std            47625.606952  0.983192   173.480450  1.505545    25.726769   \n",
      "min           142125.000000  5.000000   856.000000  5.000000  1941.000000   \n",
      "25%           156000.000000  5.250000   959.500000  6.000000  1953.750000   \n",
      "50%           195000.000000  6.500000  1133.000000  6.000000  1970.500000   \n",
      "75%           219750.000000  7.000000  1239.000000  7.500000  1994.750000   \n",
      "max           266500.000000  7.000000  1262.000000  9.000000  2003.000000   \n",
      "peak_to_peak  124375.000000  2.000000   406.000000  4.000000    62.000000   \n",
      "\n",
      "                   colF  \n",
      "count          6.000000  \n",
      "mean          70.333333  \n",
      "std            5.887841  \n",
      "min           65.000000  \n",
      "25%           66.500000  \n",
      "50%           68.000000  \n",
      "75%           73.250000  \n",
      "max           80.000000  \n",
      "peak_to_peak  15.000000  \n"
     ]
    }
   ],
   "source": [
    "print(summary)"
   ]
  },
  {
   "cell_type": "markdown",
   "id": "6cd889fc-9dee-464e-a6bf-91da9b695db8",
   "metadata": {},
   "source": [
    "### 4. Para cada variable en el dataset usar seaborn(funci´on distplot https://seaborn.pydata.\n",
    "org/generated/seaborn.distplot.html) para graficar un histograma"
   ]
  },
  {
   "cell_type": "code",
   "execution_count": 18,
   "id": "9fd6819d-2a4d-4a4e-abe3-0f169bb59680",
   "metadata": {
    "tags": []
   },
   "outputs": [
    {
     "name": "stdout",
     "output_type": "stream",
     "text": [
      "                       colA      colB         colC      colD         colE  \\\n",
      "count              6.000000  6.000000     6.000000  6.000000     6.000000   \n",
      "mean          194937.500000  6.166667  1093.333333  6.666667  1972.666667   \n",
      "std            47625.606952  0.983192   173.480450  1.505545    25.726769   \n",
      "min           142125.000000  5.000000   856.000000  5.000000  1941.000000   \n",
      "25%           156000.000000  5.250000   959.500000  6.000000  1953.750000   \n",
      "50%           195000.000000  6.500000  1133.000000  6.000000  1970.500000   \n",
      "75%           219750.000000  7.000000  1239.000000  7.500000  1994.750000   \n",
      "max           266500.000000  7.000000  1262.000000  9.000000  2003.000000   \n",
      "peak_to_peak  124375.000000  2.000000   406.000000  4.000000    62.000000   \n",
      "\n",
      "                   colF  \n",
      "count          6.000000  \n",
      "mean          70.333333  \n",
      "std            5.887841  \n",
      "min           65.000000  \n",
      "25%           66.500000  \n",
      "50%           68.000000  \n",
      "75%           73.250000  \n",
      "max           80.000000  \n",
      "peak_to_peak  15.000000  \n"
     ]
    },
    {
     "data": {
      "image/png": "[encoded data removed]",
      "text/plain": [
       "<Figure size 640x480 with 1 Axes>"
      ]
     },
     "metadata": {},
     "output_type": "display_data"
    },
    {
     "data": {
      "image/png": "[encoded data removed]",
      "text/plain": [
       "<Figure size 640x480 with 1 Axes>"
      ]
     },
     "metadata": {},
     "output_type": "display_data"
    },
    {
     "data": {
      "image/png": "[encoded data removed]",
      "text/plain": [
       "<Figure size 640x480 with 1 Axes>"
      ]
     },
     "metadata": {},
     "output_type": "display_data"
    },
    {
     "data": {
      "image/png": "[encoded data removed]",
      "text/plain": [
       "<Figure size 640x480 with 1 Axes>"
      ]
     },
     "metadata": {},
     "output_type": "display_data"
    },
    {
     "data": {
      "image/png": "[encoded data removed]",
      "text/plain": [
       "<Figure size 640x480 with 1 Axes>"
      ]
     },
     "metadata": {},
     "output_type": "display_data"
    },
    {
     "data": {
      "image/png": "[encoded data removed]",
      "text/plain": [
       "<Figure size 640x480 with 1 Axes>"
      ]
     },
     "metadata": {},
     "output_type": "display_data"
    }
   ],
   "source": [
    "print(summary)\n",
    "for column in df.columns:\n",
    "    sns.histplot(df[column], kde=False, bins=6) \n",
    "    plt.title(f'Histograma de {column}')\n",
    "    plt.xlabel(column)\n",
    "    plt.ylabel('Frecuencia')\n",
    "    plt.show()"
   ]
  },
  {
   "cell_type": "markdown",
   "id": "ac77c52c-31f7-4260-8e07-a760cf3b09e2",
   "metadata": {},
   "source": [
    "### 5. Para cada variable independiente x :Calcular el coeficiente de correlaci´on entre x y y.Graficar x vs y(scatterplot) usando matplotlib.\n",
    "Colocar el coeficiente de correlaci´on y colocarlo como parte del t´ıtulo de la gr´afica.\n",
    "Basado en la gr´afica y el coeficiente de correlaci´on de cada par x,y elegir las 2 variables\n",
    "con m´as potencial predictivo es decir las 2 variables que presentan mayor correlaci´on\n",
    "entre dicha variable y la variable dependiente."
   ]
  },
  {
   "cell_type": "code",
   "execution_count": 19,
   "id": "b1371a24-0b30-4441-857e-61eddf300219",
   "metadata": {
    "tags": []
   },
   "outputs": [
    {
     "data": {
      "text/html": [
       "<div>\n",
       "<style scoped>\n",
       "    .dataframe tbody tr th:only-of-type {\n",
       "        vertical-align: middle;\n",
       "    }\n",
       "\n",
       "    .dataframe tbody tr th {\n",
       "        vertical-align: top;\n",
       "    }\n",
       "\n",
       "    .dataframe thead th {\n",
       "        text-align: right;\n",
       "    }\n",
       "</style>\n",
       "<table border=\"1\" class=\"dataframe\">\n",
       "  <thead>\n",
       "    <tr style=\"text-align: right;\">\n",
       "      <th></th>\n",
       "      <th>colA</th>\n",
       "      <th>colB</th>\n",
       "      <th>colC</th>\n",
       "      <th>colD</th>\n",
       "      <th>colE</th>\n",
       "      <th>colF</th>\n",
       "    </tr>\n",
       "  </thead>\n",
       "  <tbody>\n",
       "    <tr>\n",
       "      <th>0</th>\n",
       "      <td>208500.0</td>\n",
       "      <td>7.0</td>\n",
       "      <td>856.0</td>\n",
       "      <td>8.0</td>\n",
       "      <td>2003.0</td>\n",
       "      <td>65.0</td>\n",
       "    </tr>\n",
       "    <tr>\n",
       "      <th>1</th>\n",
       "      <td>181500.0</td>\n",
       "      <td>6.0</td>\n",
       "      <td>1262.0</td>\n",
       "      <td>6.0</td>\n",
       "      <td>1976.0</td>\n",
       "      <td>80.0</td>\n",
       "    </tr>\n",
       "    <tr>\n",
       "      <th>2</th>\n",
       "      <td>223500.0</td>\n",
       "      <td>7.0</td>\n",
       "      <td>920.0</td>\n",
       "      <td>6.0</td>\n",
       "      <td>2001.0</td>\n",
       "      <td>68.0</td>\n",
       "    </tr>\n",
       "    <tr>\n",
       "      <th>3</th>\n",
       "      <td>266500.0</td>\n",
       "      <td>7.0</td>\n",
       "      <td>1188.0</td>\n",
       "      <td>9.0</td>\n",
       "      <td>1941.0</td>\n",
       "      <td>66.0</td>\n",
       "    </tr>\n",
       "    <tr>\n",
       "      <th>4</th>\n",
       "      <td>142125.0</td>\n",
       "      <td>5.0</td>\n",
       "      <td>1078.0</td>\n",
       "      <td>5.0</td>\n",
       "      <td>1950.0</td>\n",
       "      <td>68.0</td>\n",
       "    </tr>\n",
       "  </tbody>\n",
       "</table>\n",
       "</div>"
      ],
      "text/plain": [
       "       colA  colB    colC  colD    colE  colF\n",
       "0  208500.0   7.0   856.0   8.0  2003.0  65.0\n",
       "1  181500.0   6.0  1262.0   6.0  1976.0  80.0\n",
       "2  223500.0   7.0   920.0   6.0  2001.0  68.0\n",
       "3  266500.0   7.0  1188.0   9.0  1941.0  66.0\n",
       "4  142125.0   5.0  1078.0   5.0  1950.0  68.0"
      ]
     },
     "execution_count": 19,
     "metadata": {},
     "output_type": "execute_result"
    }
   ],
   "source": [
    "df.head()"
   ]
  },
  {
   "cell_type": "code",
   "execution_count": 20,
   "id": "fab3e274-dbca-4faa-b0d9-6828cfef1591",
   "metadata": {
    "tags": []
   },
   "outputs": [
    {
     "data": {
      "text/html": [
       "<div>\n",
       "<style scoped>\n",
       "    .dataframe tbody tr th:only-of-type {\n",
       "        vertical-align: middle;\n",
       "    }\n",
       "\n",
       "    .dataframe tbody tr th {\n",
       "        vertical-align: top;\n",
       "    }\n",
       "\n",
       "    .dataframe thead th {\n",
       "        text-align: right;\n",
       "    }\n",
       "</style>\n",
       "<table border=\"1\" class=\"dataframe\">\n",
       "  <thead>\n",
       "    <tr style=\"text-align: right;\">\n",
       "      <th></th>\n",
       "      <th>colB</th>\n",
       "      <th>colD</th>\n",
       "      <th>colF</th>\n",
       "    </tr>\n",
       "  </thead>\n",
       "  <tbody>\n",
       "    <tr>\n",
       "      <th>0</th>\n",
       "      <td>7.0</td>\n",
       "      <td>8.0</td>\n",
       "      <td>65.0</td>\n",
       "    </tr>\n",
       "    <tr>\n",
       "      <th>1</th>\n",
       "      <td>6.0</td>\n",
       "      <td>6.0</td>\n",
       "      <td>80.0</td>\n",
       "    </tr>\n",
       "    <tr>\n",
       "      <th>2</th>\n",
       "      <td>7.0</td>\n",
       "      <td>6.0</td>\n",
       "      <td>68.0</td>\n",
       "    </tr>\n",
       "    <tr>\n",
       "      <th>3</th>\n",
       "      <td>7.0</td>\n",
       "      <td>9.0</td>\n",
       "      <td>66.0</td>\n",
       "    </tr>\n",
       "    <tr>\n",
       "      <th>4</th>\n",
       "      <td>5.0</td>\n",
       "      <td>5.0</td>\n",
       "      <td>68.0</td>\n",
       "    </tr>\n",
       "  </tbody>\n",
       "</table>\n",
       "</div>"
      ],
      "text/plain": [
       "   colB  colD  colF\n",
       "0   7.0   8.0  65.0\n",
       "1   6.0   6.0  80.0\n",
       "2   7.0   6.0  68.0\n",
       "3   7.0   9.0  66.0\n",
       "4   5.0   5.0  68.0"
      ]
     },
     "execution_count": 20,
     "metadata": {},
     "output_type": "execute_result"
    }
   ],
   "source": [
    "x = df.loc[:,[\"colA\", \"colC\", \"colE\"]]\n",
    "y = df.loc[:,[\"colB\", \"colD\", \"colF\"]]\n",
    "y.head()"
   ]
  },
  {
   "cell_type": "code",
   "execution_count": 21,
   "id": "71b84529-bd2c-4869-bca7-7134afa4251d",
   "metadata": {
    "tags": []
   },
   "outputs": [
    {
     "data": {
      "text/html": [
       "<div>\n",
       "<style scoped>\n",
       "    .dataframe tbody tr th:only-of-type {\n",
       "        vertical-align: middle;\n",
       "    }\n",
       "\n",
       "    .dataframe tbody tr th {\n",
       "        vertical-align: top;\n",
       "    }\n",
       "\n",
       "    .dataframe thead th {\n",
       "        text-align: right;\n",
       "    }\n",
       "</style>\n",
       "<table border=\"1\" class=\"dataframe\">\n",
       "  <thead>\n",
       "    <tr style=\"text-align: right;\">\n",
       "      <th></th>\n",
       "      <th>colA</th>\n",
       "      <th>colC</th>\n",
       "      <th>colE</th>\n",
       "    </tr>\n",
       "  </thead>\n",
       "  <tbody>\n",
       "    <tr>\n",
       "      <th>0</th>\n",
       "      <td>208500.0</td>\n",
       "      <td>856.0</td>\n",
       "      <td>2003.0</td>\n",
       "    </tr>\n",
       "    <tr>\n",
       "      <th>1</th>\n",
       "      <td>181500.0</td>\n",
       "      <td>1262.0</td>\n",
       "      <td>1976.0</td>\n",
       "    </tr>\n",
       "    <tr>\n",
       "      <th>2</th>\n",
       "      <td>223500.0</td>\n",
       "      <td>920.0</td>\n",
       "      <td>2001.0</td>\n",
       "    </tr>\n",
       "    <tr>\n",
       "      <th>3</th>\n",
       "      <td>266500.0</td>\n",
       "      <td>1188.0</td>\n",
       "      <td>1941.0</td>\n",
       "    </tr>\n",
       "    <tr>\n",
       "      <th>4</th>\n",
       "      <td>142125.0</td>\n",
       "      <td>1078.0</td>\n",
       "      <td>1950.0</td>\n",
       "    </tr>\n",
       "  </tbody>\n",
       "</table>\n",
       "</div>"
      ],
      "text/plain": [
       "       colA    colC    colE\n",
       "0  208500.0   856.0  2003.0\n",
       "1  181500.0  1262.0  1976.0\n",
       "2  223500.0   920.0  2001.0\n",
       "3  266500.0  1188.0  1941.0\n",
       "4  142125.0  1078.0  1950.0"
      ]
     },
     "execution_count": 21,
     "metadata": {},
     "output_type": "execute_result"
    }
   ],
   "source": [
    "x = df.loc[:,[\"colA\", \"colC\", \"colE\"]]\n",
    "y = df.loc[:,[\"colB\", \"colD\", \"colF\"]]\n",
    "x.head()"
   ]
  },
  {
   "cell_type": "code",
   "execution_count": 22,
   "id": "711d2676-3280-47f7-b93b-762fa0e6867a",
   "metadata": {
    "tags": []
   },
   "outputs": [],
   "source": [
    "correlations = {}\n",
    "labels = {}"
   ]
  },
  {
   "cell_type": "code",
   "execution_count": 23,
   "id": "11d45032-c445-45c2-a375-ff7aa94595e7",
   "metadata": {
    "tags": []
   },
   "outputs": [
    {
     "data": {
      "text/html": [
       "<div>\n",
       "<style scoped>\n",
       "    .dataframe tbody tr th:only-of-type {\n",
       "        vertical-align: middle;\n",
       "    }\n",
       "\n",
       "    .dataframe tbody tr th {\n",
       "        vertical-align: top;\n",
       "    }\n",
       "\n",
       "    .dataframe thead th {\n",
       "        text-align: right;\n",
       "    }\n",
       "</style>\n",
       "<table border=\"1\" class=\"dataframe\">\n",
       "  <thead>\n",
       "    <tr style=\"text-align: right;\">\n",
       "      <th></th>\n",
       "      <th>colB</th>\n",
       "      <th>colD</th>\n",
       "      <th>colF</th>\n",
       "    </tr>\n",
       "  </thead>\n",
       "  <tbody>\n",
       "    <tr>\n",
       "      <th>0</th>\n",
       "      <td>7.0</td>\n",
       "      <td>8.0</td>\n",
       "      <td>65.0</td>\n",
       "    </tr>\n",
       "    <tr>\n",
       "      <th>1</th>\n",
       "      <td>6.0</td>\n",
       "      <td>6.0</td>\n",
       "      <td>80.0</td>\n",
       "    </tr>\n",
       "    <tr>\n",
       "      <th>2</th>\n",
       "      <td>7.0</td>\n",
       "      <td>6.0</td>\n",
       "      <td>68.0</td>\n",
       "    </tr>\n",
       "    <tr>\n",
       "      <th>3</th>\n",
       "      <td>7.0</td>\n",
       "      <td>9.0</td>\n",
       "      <td>66.0</td>\n",
       "    </tr>\n",
       "    <tr>\n",
       "      <th>4</th>\n",
       "      <td>5.0</td>\n",
       "      <td>5.0</td>\n",
       "      <td>68.0</td>\n",
       "    </tr>\n",
       "  </tbody>\n",
       "</table>\n",
       "</div>"
      ],
      "text/plain": [
       "   colB  colD  colF\n",
       "0   7.0   8.0  65.0\n",
       "1   6.0   6.0  80.0\n",
       "2   7.0   6.0  68.0\n",
       "3   7.0   9.0  66.0\n",
       "4   5.0   5.0  68.0"
      ]
     },
     "execution_count": 23,
     "metadata": {},
     "output_type": "execute_result"
    }
   ],
   "source": [
    "y.head()"
   ]
  },
  {
   "cell_type": "code",
   "execution_count": 24,
   "id": "acfbfc47-c42d-4c23-8009-436255b6a63f",
   "metadata": {
    "tags": []
   },
   "outputs": [
    {
     "data": {
      "text/html": [
       "<div>\n",
       "<style scoped>\n",
       "    .dataframe tbody tr th:only-of-type {\n",
       "        vertical-align: middle;\n",
       "    }\n",
       "\n",
       "    .dataframe tbody tr th {\n",
       "        vertical-align: top;\n",
       "    }\n",
       "\n",
       "    .dataframe thead th {\n",
       "        text-align: right;\n",
       "    }\n",
       "</style>\n",
       "<table border=\"1\" class=\"dataframe\">\n",
       "  <thead>\n",
       "    <tr style=\"text-align: right;\">\n",
       "      <th></th>\n",
       "      <th>colA</th>\n",
       "      <th>colC</th>\n",
       "      <th>colE</th>\n",
       "    </tr>\n",
       "  </thead>\n",
       "  <tbody>\n",
       "    <tr>\n",
       "      <th>0</th>\n",
       "      <td>208500.0</td>\n",
       "      <td>856.0</td>\n",
       "      <td>2003.0</td>\n",
       "    </tr>\n",
       "    <tr>\n",
       "      <th>1</th>\n",
       "      <td>181500.0</td>\n",
       "      <td>1262.0</td>\n",
       "      <td>1976.0</td>\n",
       "    </tr>\n",
       "    <tr>\n",
       "      <th>2</th>\n",
       "      <td>223500.0</td>\n",
       "      <td>920.0</td>\n",
       "      <td>2001.0</td>\n",
       "    </tr>\n",
       "    <tr>\n",
       "      <th>3</th>\n",
       "      <td>266500.0</td>\n",
       "      <td>1188.0</td>\n",
       "      <td>1941.0</td>\n",
       "    </tr>\n",
       "    <tr>\n",
       "      <th>4</th>\n",
       "      <td>142125.0</td>\n",
       "      <td>1078.0</td>\n",
       "      <td>1950.0</td>\n",
       "    </tr>\n",
       "  </tbody>\n",
       "</table>\n",
       "</div>"
      ],
      "text/plain": [
       "       colA    colC    colE\n",
       "0  208500.0   856.0  2003.0\n",
       "1  181500.0  1262.0  1976.0\n",
       "2  223500.0   920.0  2001.0\n",
       "3  266500.0  1188.0  1941.0\n",
       "4  142125.0  1078.0  1950.0"
      ]
     },
     "execution_count": 24,
     "metadata": {},
     "output_type": "execute_result"
    }
   ],
   "source": [
    "x = df.loc[:,[\"colA\", \"colC\", \"colE\"]]\n",
    "y = df.loc[:,[\"colB\", \"colD\", \"colF\"]]\n",
    "x.head()"
   ]
  },
  {
   "cell_type": "code",
   "execution_count": 25,
   "id": "a05a5bf7-3e09-44a2-a9a6-0f856fe6e0e8",
   "metadata": {
    "tags": []
   },
   "outputs": [
    {
     "data": {
      "text/plain": [
       "array([[ 1.        ,  0.99999908,  0.99999983,  0.99999727,  0.99999984,\n",
       "         0.99999983, -0.50886165, -0.49583991, -0.48356321, -0.52154081,\n",
       "        -0.49583991, -0.50662171],\n",
       "       [ 0.99999908,  1.        ,  0.9999997 ,  0.99999952,  0.99999813,\n",
       "         0.9999997 , -0.51003154, -0.4970201 , -0.48475278, -0.52270032,\n",
       "        -0.4970201 , -0.50779339],\n",
       "       [ 0.99999983,  0.9999997 ,  1.        ,  0.99999846,  0.99999933,\n",
       "         1.        , -0.50936155, -0.49634421, -0.48407152, -0.52203628,\n",
       "        -0.49634421, -0.50712238],\n",
       "       [ 0.99999727,  0.99999952,  0.99999846,  1.        ,  0.99999577,\n",
       "         0.99999847, -0.51087088, -0.49786684, -0.48560628, -0.52353219,\n",
       "        -0.49786684, -0.50863402],\n",
       "       [ 0.99999984,  0.99999813,  0.99999933,  0.99999577,  1.        ,\n",
       "         0.99999933, -0.5083678 , -0.49534173, -0.48306108, -0.52105133,\n",
       "        -0.49534173, -0.50612711],\n",
       "       [ 0.99999983,  0.9999997 ,  1.        ,  0.99999847,  0.99999933,\n",
       "         1.        , -0.50936801, -0.49635072, -0.48407808, -0.52204268,\n",
       "        -0.49635072, -0.50712885],\n",
       "       [-0.50886165, -0.51003154, -0.50936155, -0.51087088, -0.5083678 ,\n",
       "        -0.50936801,  1.        ,  0.9998866 ,  0.99957543,  0.99989057,\n",
       "         0.9998866 ,  0.99999662],\n",
       "       [-0.49583991, -0.4970201 , -0.49634421, -0.49786684, -0.49534173,\n",
       "        -0.49635072,  0.9998866 ,  1.        ,  0.99990087,  0.9995544 ,\n",
       "         1.        ,  0.99992237],\n",
       "       [-0.48356321, -0.48475278, -0.48407152, -0.48560628, -0.48306108,\n",
       "        -0.48407808,  0.99957543,  0.99990087,  1.        ,  0.99903502,\n",
       "         0.99990087,  0.99964781],\n",
       "       [-0.52154081, -0.52270032, -0.52203628, -0.52353219, -0.52105133,\n",
       "        -0.52204268,  0.99989057,  0.9995544 ,  0.99903502,  1.        ,\n",
       "         0.9995544 ,  0.99984873],\n",
       "       [-0.49583991, -0.4970201 , -0.49634421, -0.49786684, -0.49534173,\n",
       "        -0.49635072,  0.9998866 ,  1.        ,  0.99990087,  0.9995544 ,\n",
       "         1.        ,  0.99992237],\n",
       "       [-0.50662171, -0.50779339, -0.50712238, -0.50863402, -0.50612711,\n",
       "        -0.50712885,  0.99999662,  0.99992237,  0.99964781,  0.99984873,\n",
       "         0.99992237,  1.        ]])"
      ]
     },
     "execution_count": 25,
     "metadata": {},
     "output_type": "execute_result"
    }
   ],
   "source": [
    "np.corrcoef(x,y)"
   ]
  },
  {
   "cell_type": "code",
   "execution_count": 26,
   "id": "70864b30-84b8-4e69-9f52-0d1da6c01dc9",
   "metadata": {
    "tags": []
   },
   "outputs": [
    {
     "name": "stderr",
     "output_type": "stream",
     "text": [
      "C:\\Users\\Lenovo\\anaconda3\\Lib\\site-packages\\seaborn\\axisgrid.py:118: UserWarning: The figure layout has changed to tight\n",
      "  self._figure.tight_layout(*args, **kwargs)\n"
     ]
    },
    {
     "data": {
      "image/png": "[encoded data removed]",
      "text/plain": [
       "<Figure size 500x500 with 1 Axes>"
      ]
     },
     "metadata": {},
     "output_type": "display_data"
    }
   ],
   "source": [
    "sns.displot (df, x= 'colA', kind = 'kde')\n",
    "plt.show()"
   ]
  },
  {
   "cell_type": "code",
   "execution_count": 27,
   "id": "cbe7301e-6c86-4203-b35d-ad75b0549bd5",
   "metadata": {
    "tags": []
   },
   "outputs": [
    {
     "data": {
      "text/html": [
       "<div>\n",
       "<style scoped>\n",
       "    .dataframe tbody tr th:only-of-type {\n",
       "        vertical-align: middle;\n",
       "    }\n",
       "\n",
       "    .dataframe tbody tr th {\n",
       "        vertical-align: top;\n",
       "    }\n",
       "\n",
       "    .dataframe thead th {\n",
       "        text-align: right;\n",
       "    }\n",
       "</style>\n",
       "<table border=\"1\" class=\"dataframe\">\n",
       "  <thead>\n",
       "    <tr style=\"text-align: right;\">\n",
       "      <th></th>\n",
       "      <th>colA</th>\n",
       "      <th>colC</th>\n",
       "      <th>colE</th>\n",
       "    </tr>\n",
       "  </thead>\n",
       "  <tbody>\n",
       "    <tr>\n",
       "      <th>0</th>\n",
       "      <td>208500.0</td>\n",
       "      <td>856.0</td>\n",
       "      <td>2003.0</td>\n",
       "    </tr>\n",
       "    <tr>\n",
       "      <th>1</th>\n",
       "      <td>181500.0</td>\n",
       "      <td>1262.0</td>\n",
       "      <td>1976.0</td>\n",
       "    </tr>\n",
       "    <tr>\n",
       "      <th>2</th>\n",
       "      <td>223500.0</td>\n",
       "      <td>920.0</td>\n",
       "      <td>2001.0</td>\n",
       "    </tr>\n",
       "    <tr>\n",
       "      <th>3</th>\n",
       "      <td>266500.0</td>\n",
       "      <td>1188.0</td>\n",
       "      <td>1941.0</td>\n",
       "    </tr>\n",
       "    <tr>\n",
       "      <th>4</th>\n",
       "      <td>142125.0</td>\n",
       "      <td>1078.0</td>\n",
       "      <td>1950.0</td>\n",
       "    </tr>\n",
       "  </tbody>\n",
       "</table>\n",
       "</div>"
      ],
      "text/plain": [
       "       colA    colC    colE\n",
       "0  208500.0   856.0  2003.0\n",
       "1  181500.0  1262.0  1976.0\n",
       "2  223500.0   920.0  2001.0\n",
       "3  266500.0  1188.0  1941.0\n",
       "4  142125.0  1078.0  1950.0"
      ]
     },
     "execution_count": 27,
     "metadata": {},
     "output_type": "execute_result"
    }
   ],
   "source": [
    "x.head()"
   ]
  },
  {
   "cell_type": "code",
   "execution_count": 28,
   "id": "98699f1c-bed5-4d01-80be-9989606cc8de",
   "metadata": {
    "tags": []
   },
   "outputs": [
    {
     "name": "stderr",
     "output_type": "stream",
     "text": [
      "C:\\Users\\Lenovo\\anaconda3\\Lib\\site-packages\\seaborn\\axisgrid.py:118: UserWarning: The figure layout has changed to tight\n",
      "  self._figure.tight_layout(*args, **kwargs)\n"
     ]
    },
    {
     "data": {
      "image/png": "[encoded data removed]",
      "text/plain": [
       "<Figure size 500x500 with 1 Axes>"
      ]
     },
     "metadata": {},
     "output_type": "display_data"
    }
   ],
   "source": [
    "sns.displot (df, x= 'colB', kind = 'kde')\n",
    "plt.show()"
   ]
  },
  {
   "cell_type": "code",
   "execution_count": 29,
   "id": "b719d4aa-48b6-49c5-a9d8-8e1f29e9b35d",
   "metadata": {
    "tags": []
   },
   "outputs": [
    {
     "name": "stderr",
     "output_type": "stream",
     "text": [
      "C:\\Users\\Lenovo\\anaconda3\\Lib\\site-packages\\seaborn\\axisgrid.py:118: UserWarning: The figure layout has changed to tight\n",
      "  self._figure.tight_layout(*args, **kwargs)\n"
     ]
    },
    {
     "data": {
      "image/png": "[encoded data removed]",
      "text/plain": [
       "<Figure size 500x500 with 1 Axes>"
      ]
     },
     "metadata": {},
     "output_type": "display_data"
    }
   ],
   "source": [
    "sns.displot (df, x= 'colC', kind = 'kde')\n",
    "plt.show()"
   ]
  },
  {
   "cell_type": "code",
   "execution_count": 30,
   "id": "99a7f651-b9a0-46f0-8bf3-ceea8fcdde33",
   "metadata": {
    "tags": []
   },
   "outputs": [
    {
     "name": "stderr",
     "output_type": "stream",
     "text": [
      "C:\\Users\\Lenovo\\anaconda3\\Lib\\site-packages\\seaborn\\axisgrid.py:118: UserWarning: The figure layout has changed to tight\n",
      "  self._figure.tight_layout(*args, **kwargs)\n"
     ]
    },
    {
     "data": {
      "image/png": "[encoded data removed]",
      "text/plain": [
       "<Figure size 500x500 with 1 Axes>"
      ]
     },
     "metadata": {},
     "output_type": "display_data"
    }
   ],
   "source": [
    "sns.displot (df, x= 'colD', kind = 'kde')\n",
    "plt.show()"
   ]
  },
  {
   "cell_type": "code",
   "execution_count": 31,
   "id": "ed96b5af-fe4d-4a77-890e-097d54ba70db",
   "metadata": {
    "tags": []
   },
   "outputs": [
    {
     "name": "stderr",
     "output_type": "stream",
     "text": [
      "C:\\Users\\Lenovo\\anaconda3\\Lib\\site-packages\\seaborn\\axisgrid.py:118: UserWarning: The figure layout has changed to tight\n",
      "  self._figure.tight_layout(*args, **kwargs)\n"
     ]
    },
    {
     "data": {
      "image/png": "[encoded data removed]",
      "text/plain": [
       "<Figure size 500x500 with 1 Axes>"
      ]
     },
     "metadata": {},
     "output_type": "display_data"
    }
   ],
   "source": [
    "sns.displot (df, x= 'colE', kind = 'kde')\n",
    "plt.show()"
   ]
  },
  {
   "cell_type": "code",
   "execution_count": 32,
   "id": "c7f7dcb2-5a7a-4372-b11c-3ab71d0af72e",
   "metadata": {
    "tags": []
   },
   "outputs": [
    {
     "name": "stderr",
     "output_type": "stream",
     "text": [
      "C:\\Users\\Lenovo\\anaconda3\\Lib\\site-packages\\seaborn\\axisgrid.py:118: UserWarning: The figure layout has changed to tight\n",
      "  self._figure.tight_layout(*args, **kwargs)\n"
     ]
    },
    {
     "data": {
      "image/png": "[encoded data removed]",
      "text/plain": [
       "<Figure size 500x500 with 1 Axes>"
      ]
     },
     "metadata": {},
     "output_type": "display_data"
    }
   ],
   "source": [
    "sns.displot (df, x= 'colF', kind = 'kde')\n",
    "plt.show()"
   ]
  },
  {
   "cell_type": "markdown",
   "id": "11f7b3ca-f2a8-461f-a1ee-c6efa40aa731",
   "metadata": {},
   "source": [
    "### 6. Crear una funci´on para entrenar un modelo de regresi´on lineal de una variable y = β0 +β1 ∗x.La funci´on recibe como argumentos:\n",
    "6.1 Vector con la variable independiente x,\n",
    "6.2 Vector con la variable dependiente y,\n",
    "6.3 un entero epochs que indica por cuantas iteraciones entrenar el modelo.\n",
    "6.4 un entero imprimir error cada , que nos indica cada cuantas iteraciones queremos\n",
    "imprimir a trav´es de print: el nu´mero de iteraci´on, el error del modelo en esa itera\u0002ci´on, si imprimir error cada = 10, se despliega en pantalla el error en las iteraciones:\n",
    "10,20,30,40,50.\n",
    "6.5 escalar α(learning rate): es usado como parte de la expresi´on matem´atica para actualizar\n",
    "en cada iteraci´on los par´ametros del modelo."
   ]
  },
  {
   "cell_type": "code",
   "execution_count": 38,
   "id": "f7b1f504-3456-4ae5-9e7b-e293b987cb60",
   "metadata": {},
   "outputs": [
    {
     "name": "stdout",
     "output_type": "stream",
     "text": [
      "Iteración: 0, Error: 2.152949339072088\n",
      "Iteración: 10, Error: 0.45955295446877215\n",
      "Iteración: 20, Error: 0.4472187605678332\n",
      "Iteración: 30, Error: 0.44278437173487006\n",
      "Iteración: 40, Error: 0.4386724275368434\n",
      "Iteración: 50, Error: 0.4348299225470248\n",
      "Iteración: 60, Error: 0.43123906694409786\n",
      "Iteración: 70, Error: 0.42788337935734366\n",
      "Iteración: 80, Error: 0.42474745844184464\n",
      "Iteración: 90, Error: 0.4218169115020392\n",
      "Coeficientes del modelo: beta0 = 0.836647831558124, beta1 = 1.0283411207817468\n"
     ]
    }
   ],
   "source": [
    "def entrenar_regresion_lineal(x, y, epochs, imprimir_error_cada, alpha):    \n",
    "    np.random.seed(0)\n",
    "    beta0 = np.random.rand()\n",
    "    beta1 = np.random.rand()\n",
    "   \n",
    "    m = len(x)\n",
    "    \n",
    "    for epoch in range(epochs):       \n",
    "        y_pred = beta0 + beta1 * x\n",
    "                \n",
    "        error = np.mean((y_pred - y)**2)        \n",
    "        \n",
    "        gradiente_beta0 = (2/m) * np.sum(y_pred - y)\n",
    "        gradiente_beta1 = (2/m) * np.sum((y_pred - y) * x)\n",
    "        \n",
    "        beta0 -= alpha * gradiente_beta0\n",
    "        beta1 -= alpha * gradiente_beta1        \n",
    "        \n",
    "        if epoch % imprimir_error_cada == 0:\n",
    "            print(f\"Iteración: {epoch}, Error: {error}\")\n",
    "    \n",
    "    return beta0, beta1\n",
    "\n",
    "# Ejemplo de uso\n",
    "x = np.array([1, 2, 3, 4, 5])\n",
    "y = np.array([2, 3, 5, 4, 6])\n",
    "epochs = 100\n",
    "imprimir_error_cada = 10\n",
    "alpha = 0.01\n",
    "\n",
    "beta0, beta1 = entrenar_regresion_lineal(x, y, epochs, imprimir_error_cada, alpha)\n",
    "print(f\"Coeficientes del modelo: beta0 = {beta0}, beta1 = {beta1}\")\n"
   ]
  },
  {
   "cell_type": "code",
   "execution_count": 34,
   "id": "e94827a8-7c96-4edf-92da-6d3560903245",
   "metadata": {},
   "outputs": [
    {
     "name": "stdout",
     "output_type": "stream",
     "text": [
      "Iteración 10, Error: 1.215576059220508\n",
      "Iteración 20, Error: 1.051563614023817\n",
      "Iteración 30, Error: 1.0136082383150382\n",
      "Iteración 40, Error: 0.9786594436066594\n",
      "Iteración 50, Error: 0.9460018260570994\n",
      "Iteración 60, Error: 0.9154829926974892\n",
      "Iteración 70, Error: 0.8869628622580088\n",
      "Iteración 80, Error: 0.8603105380337268\n",
      "Iteración 90, Error: 0.8354036958974536\n",
      "Iteración 100, Error: 0.812128022827409\n",
      "Parámetros finales del modelo:\n",
      "beta0: 0.8537510676872087\n",
      "beta1: 0.9728893670773188\n"
     ]
    }
   ],
   "source": [
    "def entrenar_regresion_lineal(x, y, epochs, imprimir_error_cada, alpha):\n",
    "    # Inicializar parámetros\n",
    "    beta0 = 0\n",
    "    beta1 = 0\n",
    "    n = len(y)\n",
    "    \n",
    "    # Entrenamiento del modelo\n",
    "    for epoch in range(epochs):\n",
    "        # Calcular predicciones\n",
    "        y_pred = beta0 + beta1 * x\n",
    "        \n",
    "        # Calcular error\n",
    "        error = np.mean((y_pred - y) ** 2)\n",
    "        \n",
    "        # Actualizar parámetros (descenso de gradiente)\n",
    "        gradient_beta0 = (2/n) * np.sum(y_pred - y)\n",
    "        gradient_beta1 = (2/n) * np.sum((y_pred - y) * x)\n",
    "        beta0 -= alpha * gradient_beta0\n",
    "        beta1 -= alpha * gradient_beta1\n",
    "        \n",
    "        # Imprimir error cada cierto número de iteraciones\n",
    "        if (epoch + 1) % imprimir_error_cada == 0:\n",
    "            print(f\"Iteración {epoch + 1}, Error: {error}\")\n",
    "    \n",
    "    return beta0, beta1\n",
    "\n",
    "# Ejemplo de uso\n",
    "x = np.array([1, 2, 3, 4, 5])\n",
    "y = np.array([2, 4, 5, 4, 5])\n",
    "\n",
    "epochs = 100\n",
    "imprimir_error_cada = 10\n",
    "alpha = 0.01\n",
    "\n",
    "beta0, beta1 = entrenar_regresion_lineal(x, y, epochs, imprimir_error_cada, alpha)\n",
    "print(\"Parámetros finales del modelo:\")\n",
    "print(\"beta0:\", beta0)\n",
    "print(\"beta1:\", beta1)\n"
   ]
  },
  {
   "cell_type": "code",
   "execution_count": 39,
   "id": "2e9feb94-2d6f-4a7f-a262-3206216e1fa6",
   "metadata": {
    "tags": []
   },
   "outputs": [
    {
     "name": "stdout",
     "output_type": "stream",
     "text": [
      "Iteración 10, Error: 1.215576059220508\n",
      "Iteración 20, Error: 1.051563614023817\n",
      "Iteración 30, Error: 1.0136082383150382\n",
      "Iteración 40, Error: 0.9786594436066594\n",
      "Iteración 50, Error: 0.9460018260570994\n",
      "Iteración 60, Error: 0.9154829926974892\n",
      "Iteración 70, Error: 0.8869628622580088\n",
      "Iteración 80, Error: 0.8603105380337268\n",
      "Iteración 90, Error: 0.8354036958974536\n",
      "Iteración 100, Error: 0.812128022827409\n",
      "Parámetros finales del modelo:\n",
      "beta0: 0.9728893670773188\n",
      "beta1: 0.8537510676872087\n"
     ]
    }
   ],
   "source": [
    "import numpy as np\n",
    "\n",
    "def entrenar_regresion_lineal(x, y, epochs, imprimir_error_cada, alpha):\n",
    "    # Crear una matriz de características con una columna de unos para el término de sesgo\n",
    "    X = np.column_stack((x, np.ones_like(x)))\n",
    "    \n",
    "    # Inicializar parámetros\n",
    "    beta = np.zeros(2)  # Inicialización de los parámetros beta0 y beta1\n",
    "    \n",
    "    # Función para calcular las predicciones\n",
    "    def calcular_predicciones(X, beta):\n",
    "        return np.dot(X, beta)\n",
    "    \n",
    "    # Función para calcular el error\n",
    "    def calcular_error(y, y_pred):\n",
    "        return np.mean((y_pred - y) ** 2)\n",
    "    \n",
    "    # Entrenamiento del modelo\n",
    "    for epoch in range(epochs):\n",
    "        # Calcular predicciones\n",
    "        y_pred = calcular_predicciones(X, beta)\n",
    "        \n",
    "        # Calcular error\n",
    "        error = calcular_error(y, y_pred)\n",
    "        \n",
    "        # Actualizar parámetros (descenso de gradiente)\n",
    "        gradient = (2/len(y)) * np.dot(X.T, y_pred - y)\n",
    "        beta -= alpha * gradient\n",
    "        \n",
    "        # Imprimir error cada cierto número de iteraciones\n",
    "        if (epoch + 1) % imprimir_error_cada == 0:\n",
    "            print(f\"Iteración {epoch + 1}, Error: {error}\")\n",
    "    \n",
    "    return beta[0], beta[1]  # Retorna los parámetros beta0 y beta1 del modelo\n",
    "\n",
    "# Ejemplo de uso\n",
    "x = np.array([1, 2, 3, 4, 5])\n",
    "y = np.array([2, 4, 5, 4, 5])\n",
    "\n",
    "epochs = 100\n",
    "imprimir_error_cada = 10\n",
    "alpha = 0.01\n",
    "\n",
    "beta0, beta1 = entrenar_regresion_lineal(x, y, epochs, imprimir_error_cada, alpha)\n",
    "print(\"Parámetros finales del modelo:\")\n",
    "print(\"beta0:\", beta0)\n",
    "print(\"beta1:\", beta1)\n"
   ]
  },
  {
   "cell_type": "code",
   "execution_count": 40,
   "id": "65d19e36-ba73-45b5-935f-315a146d95f7",
   "metadata": {
    "tags": []
   },
   "outputs": [
    {
     "name": "stdout",
     "output_type": "stream",
     "text": [
      "Iteración 10, Error: 1.215576059220508\n",
      "Iteración 20, Error: 1.051563614023817\n",
      "Iteración 30, Error: 1.0136082383150382\n",
      "Iteración 40, Error: 0.9786594436066594\n",
      "Iteración 50, Error: 0.9460018260570994\n",
      "Iteración 60, Error: 0.9154829926974892\n",
      "Iteración 70, Error: 0.8869628622580088\n",
      "Iteración 80, Error: 0.8603105380337268\n",
      "Iteración 90, Error: 0.8354036958974536\n",
      "Iteración 100, Error: 0.812128022827409\n",
      "Parámetros finales del modelo:\n",
      "beta0: 0.9728893670773188\n",
      "beta1: 0.8537510676872087\n"
     ]
    }
   ],
   "source": [
    "import numpy as np\n",
    "\n",
    "def entrenar_regresion_lineal(x, y, epochs, imprimir_error_cada, alpha):\n",
    "    # Crear una matriz de características con una columna de unos para el término de sesgo\n",
    "    X = np.column_stack((x, np.ones_like(x)))\n",
    "    \n",
    "    # Inicializar parámetros\n",
    "    beta = np.zeros(2)  # Inicialización de los parámetros beta0 y beta1\n",
    "    \n",
    "    # Función para calcular las predicciones\n",
    "    def calcular_predicciones(X, beta):\n",
    "        return np.dot(X, beta)\n",
    "    \n",
    "    # Función para calcular el error\n",
    "    def calcular_error(y, y_pred):\n",
    "        return np.mean((y_pred - y) ** 2)\n",
    "    \n",
    "    # Entrenamiento del modelo\n",
    "    for epoch in range(epochs):\n",
    "        # Calcular predicciones\n",
    "        y_pred = calcular_predicciones(X, beta)\n",
    "        \n",
    "        # Calcular error\n",
    "        error = calcular_error(y, y_pred)\n",
    "        \n",
    "        # Actualizar parámetros (descenso de gradiente)\n",
    "        gradient = (2/len(y)) * np.dot(X.T, y_pred - y)\n",
    "        beta -= alpha * gradient\n",
    "        \n",
    "        # Imprimir error cada cierto número de iteraciones\n",
    "        if (epoch + 1) % imprimir_error_cada == 0:\n",
    "            print(f\"Iteración {epoch + 1}, Error: {error}\")\n",
    "    \n",
    "    return beta[0], beta[1]  # Retorna los parámetros beta0 y beta1 del modelo\n",
    "\n",
    "# Ejemplo de uso\n",
    "x = np.array([1, 2, 3, 4, 5])\n",
    "y = np.array([2, 4, 5, 4, 5])\n",
    "\n",
    "epochs = 100\n",
    "imprimir_error_cada = 10\n",
    "alpha = 0.01\n",
    "\n",
    "beta0, beta1 = entrenar_regresion_lineal(x, y, epochs, imprimir_error_cada, alpha)\n",
    "print(\"Parámetros finales del modelo:\")\n",
    "print(\"beta0:\", beta0)\n",
    "print(\"beta1:\", beta1)\n"
   ]
  },
  {
   "cell_type": "code",
   "execution_count": 41,
   "id": "295f3db7-4c37-42ed-8c48-59faa7931fe5",
   "metadata": {
    "tags": []
   },
   "outputs": [
    {
     "name": "stdout",
     "output_type": "stream",
     "text": [
      "Iteración 10, Error: 1.215576059220508\n",
      "Iteración 20, Error: 1.051563614023817\n",
      "Iteración 30, Error: 1.0136082383150382\n",
      "Iteración 40, Error: 0.9786594436066594\n",
      "Iteración 50, Error: 0.9460018260570994\n",
      "Iteración 60, Error: 0.9154829926974892\n",
      "Iteración 70, Error: 0.8869628622580088\n",
      "Iteración 80, Error: 0.8603105380337268\n",
      "Iteración 90, Error: 0.8354036958974536\n",
      "Iteración 100, Error: 0.812128022827409\n",
      "Parámetros finales del modelo:\n",
      "beta0: 0.9728893670773188\n",
      "beta1: 0.8537510676872087\n",
      "Error final del modelo: 0.812128022827409\n"
     ]
    }
   ],
   "source": [
    "import numpy as np\n",
    "\n",
    "def entrenar_regresion_lineal(x, y, epochs, imprimir_error_cada, alpha):\n",
    "    # Crear una matriz de características con una columna de unos para el término de sesgo\n",
    "    X = np.column_stack((x, np.ones_like(x)))\n",
    "    \n",
    "    # Inicializar parámetros\n",
    "    beta = np.zeros(2)  # Inicialización de los parámetros beta0 y beta1\n",
    "    \n",
    "    # Función para calcular las predicciones\n",
    "    def calcular_predicciones(X, beta):\n",
    "        return np.dot(X, beta)\n",
    "    \n",
    "    # Función para calcular el error\n",
    "    def calcular_error(y, y_pred):\n",
    "        return np.mean((y_pred - y) ** 2)\n",
    "    \n",
    "    # Entrenamiento del modelo\n",
    "    for epoch in range(epochs):\n",
    "        # Calcular predicciones\n",
    "        y_pred = calcular_predicciones(X, beta)\n",
    "        \n",
    "        # Calcular error\n",
    "        error = calcular_error(y, y_pred)\n",
    "        \n",
    "        # Actualizar parámetros (descenso de gradiente)\n",
    "        gradient = (2/len(y)) * np.dot(X.T, y_pred - y)\n",
    "        beta -= alpha * gradient\n",
    "        \n",
    "        # Imprimir error cada cierto número de iteraciones\n",
    "        if (epoch + 1) % imprimir_error_cada == 0:\n",
    "            print(f\"Iteración {epoch + 1}, Error: {error}\")\n",
    "    \n",
    "    return beta[0], beta[1], error  # Retorna los parámetros beta0 y beta1 del modelo y el error final\n",
    "\n",
    "# Ejemplo de uso\n",
    "x = np.array([1, 2, 3, 4, 5])\n",
    "y = np.array([2, 4, 5, 4, 5])\n",
    "\n",
    "epochs = 100\n",
    "imprimir_error_cada = 10\n",
    "alpha = 0.01\n",
    "\n",
    "beta0, beta1, error_final = entrenar_regresion_lineal(x, y, epochs, imprimir_error_cada, alpha)\n",
    "print(\"Parámetros finales del modelo:\")\n",
    "print(\"beta0:\", beta0)\n",
    "print(\"beta1:\", beta1)\n",
    "print(\"Error final del modelo:\", error_final)\n",
    "\n"
   ]
  },
  {
   "cell_type": "code",
   "execution_count": 42,
   "id": "342817fa-0eaa-40e7-a58d-fcb23ee274da",
   "metadata": {
    "tags": []
   },
   "outputs": [
    {
     "name": "stdout",
     "output_type": "stream",
     "text": [
      "Iteración 10, Error: 2.7761249768907525\n",
      "Iteración 20, Error: 1.223274838618386\n",
      "Iteración 30, Error: 1.0795456693732042\n",
      "Iteración 40, Error: 1.0500064719467916\n",
      "Iteración 50, Error: 1.030268131086074\n",
      "Iteración 60, Error: 1.0118972398514887\n",
      "Iteración 70, Error: 0.9941948690302469\n",
      "Iteración 80, Error: 0.9770861104257224\n",
      "Iteración 90, Error: 0.9605469686102989\n",
      "Iteración 100, Error: 0.944558149112695\n",
      "Parámetros finales del modelo:\n",
      "beta0: 1.0417530517794173\n",
      "beta1: 0.6051164658853391\n",
      "Errores de cada iteración: [17.2, 13.620144000000002, 10.8367613472, 8.67254126003904, 6.989646213772907, 5.680924329233724, 4.6630780762617885, 3.8713537733289543, 3.255413320822467, 2.7761249768907525, 2.4030685768538143, 2.1125961453976023, 1.8863242589579574, 1.7099620412484882, 1.572400072645652, 1.4650021282935566, 1.381054590814402, 1.3153384358049747, 1.2637965027332017, 1.223274838618386, 1.191321624271604, 1.1660308639575603, 1.145920873160173, 1.1298398176320643, 1.1168922815198568, 1.1063821830325566, 1.0977683983319912, 1.0906302645168262, 1.084640762397607, 1.0795456693732042, 1.0751473533333629, 1.0712921743933301, 1.0678606912781443, 1.0647600479801598, 1.0619180553132508, 1.0592785900425796, 1.0567980182687626, 1.0544424150449734, 1.0521854029681006, 1.0500064719467916, 1.0478896730258493, 1.0458226029938784, 1.0437956150394292, 1.0418012051323307, 1.0398335350099024, 1.0378880613568346, 1.035961247537692, 1.0340503395040126, 1.0321531915893463, 1.030268131086074, 1.0283938529703385, 1.0265293380634573, 1.0246737894123432, 1.0228265828329837, 1.0209872284639698, 1.0191553408789997, 1.0173306158529383, 1.015512812300212, 1.0137017382340565, 1.0118972398514887, 1.0100991930481613, 1.0083074968221268, 1.0065220681460363, 1.0047428379808323, 1.0029697481768363, 1.0012027490646678, 0.9994417975824309, 0.9976868558197728, 0.9959378898860214, 0.9941948690302469, 0.9924577649571675, 0.9907265512952987, 0.9890012031834539, 0.9872816969492503, 0.9855680098591335, 0.9838601199240106, 0.9821580057480903, 0.980461646411341, 0.9787710213780537, 0.9770861104257224, 0.9754068935897005, 0.9737333511201353, 0.972065463448437, 0.9704032111611653, 0.9687465749796855, 0.9670955357442986, 0.9654500744018616, 0.9638101719961141, 0.9621758096601123, 0.9605469686102989, 0.9589236301418465, 0.9573057756249908, 0.9556933865021326, 0.954086444285539, 0.9524849305555112, 0.9508888269589084, 0.9492981152079633, 0.947712777079305, 0.9461327944131639, 0.944558149112695]\n"
     ]
    }
   ],
   "source": [
    "import numpy as np\n",
    "\n",
    "def entrenar_regresion_lineal(x, y, epochs, imprimir_error_cada, alpha):\n",
    "    # Crear una matriz de características con una columna de unos para el término de sesgo\n",
    "    X = np.column_stack((x, np.ones_like(x)))\n",
    "    \n",
    "    # Inicializar parámetros\n",
    "    beta = np.zeros(2)  # Inicialización de los parámetros beta0 y beta1\n",
    "    \n",
    "    # Lista para almacenar los errores de cada iteración\n",
    "    errores_iteracion = []\n",
    "    \n",
    "    # Función para calcular las predicciones\n",
    "    def calcular_predicciones(X, beta):\n",
    "        return np.dot(X, beta)\n",
    "    \n",
    "    # Función para calcular el error\n",
    "    def calcular_error(y, y_pred):\n",
    "        return np.mean((y_pred - y) ** 2)\n",
    "    \n",
    "    # Función para calcular el gradiente del error respecto de los parámetros\n",
    "    def calcular_gradiente_error(X, y, y_pred):\n",
    "        gradiente = np.mean((y_pred - y) * X.T, axis=1)\n",
    "        return gradiente\n",
    "    \n",
    "    # Entrenamiento del modelo\n",
    "    for epoch in range(epochs):\n",
    "        # Calcular predicciones\n",
    "        y_pred = calcular_predicciones(X, beta)\n",
    "        \n",
    "        # Calcular error\n",
    "        error = calcular_error(y, y_pred)\n",
    "        errores_iteracion.append(error)\n",
    "        \n",
    "        # Calcular gradientes del error respecto de los parámetros\n",
    "        gradient = calcular_gradiente_error(X, y, y_pred)\n",
    "        \n",
    "        # Actualizar parámetros (descenso de gradiente)\n",
    "        beta -= alpha * gradient\n",
    "        \n",
    "        # Imprimir error cada cierto número de iteraciones\n",
    "        if (epoch + 1) % imprimir_error_cada == 0:\n",
    "            print(f\"Iteración {epoch + 1}, Error: {error}\")\n",
    "    \n",
    "    return beta[0], beta[1], errores_iteracion  # Retorna los parámetros beta0 y beta1 del modelo y los errores de cada iteración\n",
    "\n",
    "# Ejemplo de uso\n",
    "x = np.array([1, 2, 3, 4, 5])\n",
    "y = np.array([2, 4, 5, 4, 5])\n",
    "\n",
    "epochs = 100\n",
    "imprimir_error_cada = 10\n",
    "alpha = 0.01\n",
    "\n",
    "beta0, beta1, errores_iteracion = entrenar_regresion_lineal(x, y, epochs, imprimir_error_cada, alpha)\n",
    "print(\"Parámetros finales del modelo:\")\n",
    "print(\"beta0:\", beta0)\n",
    "print(\"beta1:\", beta1)\n",
    "print(\"Errores de cada iteración:\", errores_iteracion)\n"
   ]
  },
  {
   "cell_type": "code",
   "execution_count": 43,
   "id": "a883c9f2-85e8-4c93-bae6-6e36b2586529",
   "metadata": {
    "tags": []
   },
   "outputs": [
    {
     "name": "stdout",
     "output_type": "stream",
     "text": [
      "Iteración 10, Error: 2.7761249768907525\n",
      "Iteración 20, Error: 1.223274838618386\n",
      "Iteración 30, Error: 1.0795456693732042\n",
      "Iteración 40, Error: 1.0500064719467916\n",
      "Iteración 50, Error: 1.030268131086074\n",
      "Iteración 60, Error: 1.0118972398514887\n",
      "Iteración 70, Error: 0.9941948690302469\n",
      "Iteración 80, Error: 0.9770861104257224\n",
      "Iteración 90, Error: 0.9605469686102989\n",
      "Iteración 100, Error: 0.944558149112695\n",
      "Modelo resultante de cada iteración:\n",
      "Iteración 1: beta0=0.132, beta1=0.04\n",
      "Iteración 2: beta0=0.24828, beta1=0.07564\n",
      "Iteración 3: beta0=0.3507, beta1=0.1074352\n",
      "Iteración 4: beta0=0.440899944, beta1=0.13583984799999999\n",
      "Iteración 5: beta0=0.52032575472, beta1=0.16125445119999998\n",
      "Iteración 6: beta0=0.5902522881648, beta1=0.18403213404639998\n",
      "Iteración 7: beta0=0.65180357244528, beta1=0.20448424406099197\n",
      "Iteración 8: beta0=0.7059706521544694, beta1=0.22288529444702365\n",
      "Iteración 9: beta0=0.7536273215840671, beta1=0.23947732193791935\n",
      "Iteración 10: beta0=0.7955439965516822, beta1=0.2544737290710181\n",
      "Iteración 11: beta0=0.8323999450588666, beta1=0.2680626718837575\n",
      "Iteración 12: beta0=0.8647940709458786, beta1=0.2804100468131539\n",
      "Iteración 13: beta0=0.8932544217374373, beta1=0.291662124216646\n",
      "Iteración 14: beta0=0.9182465716198198, beta1=0.3019478703223564\n",
      "Iteración 15: beta0=0.940181012631969, beta1=0.31138099447053824\n",
      "Iteración 16: beta0=0.9594196714083362, beta1=0.32006175414687377\n",
      "Iteración 17: beta0=0.976281654929013, beta1=0.32807854646315493\n",
      "Iteración 18: beta0=0.9910483164929269, beta1=0.335509311350653\n",
      "Iteración 19: beta0=1.0039677223381853, beta1=0.34242276874235866\n",
      "Iteración 20: beta0=1.015258589818714, beta1=0.3488795093847895\n",
      "Iteración 21: beta0=1.0251137596571118, beta1=0.3549329565963802\n",
      "Iteración 22: beta0=1.033703257396938, beta1=0.360630214240703\n",
      "Iteración 23: beta0=1.0411769926560537, beta1=0.36601281437638783\n",
      "Iteración 24: beta0=1.0476671390325962, beta1=0.37111737645294235\n",
      "Iteración 25: beta0=1.0532902324454223, beta1=0.37597618851743503\n",
      "Iteración 26: beta0=1.0581490212209028, beta1=0.380617719658898\n",
      "Iteración 27: beta0=1.0623340972968365, beta1=0.38506707182568195\n",
      "Iteración 28: beta0=1.065925334439414, beta1=0.38934637818852\n",
      "Iteración 29: beta0=1.068993156305423, beta1=0.39347515437345243\n",
      "Iteración 30: beta0=1.0715996544806228, beta1=0.39747060814055524\n",
      "Iteración 31: beta0=1.0737995742435376, beta1=0.401347912424731\n",
      "Iteración 32: beta0=1.0756411837040065, beta1=0.40512044607317754\n",
      "Iteración 33: beta0=1.0771670401143705, beta1=0.40880000610132555\n",
      "Iteración 34: beta0=1.0784146655187499, beta1=0.4123969948368812\n",
      "Iteración 35: beta0=1.079417142466581, beta1=0.41592058492294987\n",
      "Iteración 36: beta0=1.0802036392475687, beta1=0.4193788647997229\n",
      "Iteración 37: beta0=1.0807998729863444, beta1=0.4227789669742986\n",
      "Iteración 38: beta0=1.0812285179486176, beta1=0.4261271811149653\n",
      "Iteración 39: beta0=1.0815095655408207, beta1=0.4294290537653571\n",
      "Iteración 40: beta0=1.0816606417183696, beta1=0.4326894762614789\n",
      "Iteración 41: beta0=1.0816972868415047, beta1=0.435912762247313\n",
      "Iteración 42: beta0=1.0816332024215198, beta1=0.4391027160195947\n",
      "Iteración 43: beta0=1.0814804686745647, beta1=0.4422626927867532\n",
      "Iteración 44: beta0=1.08124973633676, beta1=0.4453956517986487\n",
      "Iteración 45: beta0=1.080950395785757, beta1=0.44850420319055945\n",
      "Iteración 46: beta0=1.080590726153607, beta1=0.45159064928508114\n",
      "Iteración 47: beta0=1.0801780267981578, beta1=0.4546570210076221\n",
      "Iteración 48: beta0=1.0797187332201317, beta1=0.45770510999360114\n",
      "Iteración 49: beta0=1.0792185192661092, beta1=0.4607364968970612\n",
      "Iteración 50: beta0=1.0786823872399254, beta1=0.4637525763501073\n",
      "Iteración 51: beta0=1.0781147473530304, beta1=0.4667545789694085\n",
      "Iteración 52: beta0=1.0775194877751149, beta1=0.4697435907591235\n",
      "Iteración 53: beta0=1.0769000363970784, beta1=0.4727205702182788\n",
      "Iteración 54: beta0=1.0762594152868514, beta1=0.47568636342418363\n",
      "Iteración 55: beta0=1.0756002887025722, beta1=0.47864171733133626\n",
      "Iteración 56: beta0=1.0749250054253492, beta1=0.48158729149694574\n",
      "Iteración 57: beta0=1.0742356360836525, beta1=0.4845236684192158\n",
      "Iteración 58: beta0=1.0735340060618743, beta1=0.48745136265251404\n",
      "Iteración 59: beta0=1.0728217245154927, beta1=0.4903708288441327\n",
      "Iteración 60: beta0=1.0721002099534647, beta1=0.4932824688202266\n",
      "Iteración 61: beta0=1.0713707127939767, beta1=0.4961866378334204\n",
      "Iteración 62: beta0=1.0706343352516365, beta1=0.49908365007126687\n",
      "Iteración 63: beta0=1.0698920488718184, beta1=0.5019737835130051\n",
      "Iteración 64: beta0=1.0691447099905282, beta1=0.5048572842117205\n",
      "Iteración 65: beta0=1.0683930733652185, beta1=0.5077343700698874\n",
      "Iteración 66: beta0=1.0676378041929477, beta1=0.510605234168232\n",
      "Iteración 67: beta0=1.0668794887066766, beta1=0.5134700477007612\n",
      "Iteración 68: beta0=1.0661186435179193, beta1=0.5163289625625533\n",
      "Iteración 69: beta0=1.0653557238540716, beta1=0.5191821136313902\n",
      "Iteración 70: beta0=1.064591130821182, beta1=0.5220296207794541\n",
      "Iteración 71: beta0=1.0638252178074683, beta1=0.5248715906470242\n",
      "Iteración 72: beta0=1.063058296129236, beta1=0.5277081182063299\n",
      "Iteración 73: beta0=1.0622906400088301, beta1=0.5305392881403895\n",
      "Iteración 74: beta0=1.0615224909636471, beta1=0.5333651760587207\n",
      "Iteración 75: beta0=1.0607540616758844, beta1=0.5361858495692241\n",
      "Iteración 76: beta0=1.0599855394044604, beta1=0.5390013692232554\n",
      "Iteración 77: beta0=1.0592170889932722, beta1=0.541811789348889\n",
      "Iteración 78: beta0=1.0584488555235456, beta1=0.5446171587856019\n",
      "Iteración 79: beta0=1.0576809666523876, beta1=0.5474175215320395\n",
      "Iteración 80: beta0=1.0569135346746639, beta1=0.5502129173171475\n",
      "Iteración 81: beta0=1.0561466583409365, beta1=0.5530033821037361\n",
      "Iteración 82: beta0=1.0553804244603213, beta1=0.5557889485324706\n",
      "Iteración 83: beta0=1.0546149093137118, beta1=0.5585696463133363\n",
      "Iteración 84: beta0=1.0538501798998035, beta1=0.5613455025707915\n",
      "Iteración 85: beta0=1.0530862950337014, beta1=0.5641165421480895\n",
      "Iteración 86: beta0=1.0523233063155517, beta1=0.5668827878755975\n",
      "Iteración 87: beta0=1.051561258984573, beta1=0.569644260807375\n",
      "Iteración 88: beta0=1.0508001926720487, beta1=0.5724009804297641\n",
      "Iteración 89: beta0=1.0500401420652303, beta1=0.575152964845305\n",
      "Iteración 90: beta0=1.0492811374926958, beta1=0.5779002309348951\n",
      "Iteración 91: beta0=1.0485232054404525, beta1=0.5806427945007653\n",
      "Iteración 92: beta0=1.0477663690069798, beta1=0.583380670392544\n",
      "Iteración 93: beta0=1.0470106483044357, beta1=0.5861138726184092\n",
      "Iteración 94: beta0=1.0462560608123954, beta1=0.588842414443092\n",
      "Iteración 95: beta0=1.0455026216897392, beta1=0.5915663084742893\n",
      "Iteración 96: beta0=1.0447503440496393, beta1=0.5942855667388542\n",
      "Iteración 97: beta0=1.0439992392020134, beta1=0.5970002007499765\n",
      "Iteración 98: beta0=1.0432493168672927, beta1=0.5997102215664163\n",
      "Iteración 99: beta0=1.042500585364898, beta1=0.6024156398447333\n",
      "Iteración 100: beta0=1.0417530517794173, beta1=0.6051164658853391\n",
      "Errores de cada iteración: [17.2, 13.620144000000002, 10.8367613472, 8.67254126003904, 6.989646213772907, 5.680924329233724, 4.6630780762617885, 3.8713537733289543, 3.255413320822467, 2.7761249768907525, 2.4030685768538143, 2.1125961453976023, 1.8863242589579574, 1.7099620412484882, 1.572400072645652, 1.4650021282935566, 1.381054590814402, 1.3153384358049747, 1.2637965027332017, 1.223274838618386, 1.191321624271604, 1.1660308639575603, 1.145920873160173, 1.1298398176320643, 1.1168922815198568, 1.1063821830325566, 1.0977683983319912, 1.0906302645168262, 1.084640762397607, 1.0795456693732042, 1.0751473533333629, 1.0712921743933301, 1.0678606912781443, 1.0647600479801598, 1.0619180553132508, 1.0592785900425796, 1.0567980182687626, 1.0544424150449734, 1.0521854029681006, 1.0500064719467916, 1.0478896730258493, 1.0458226029938784, 1.0437956150394292, 1.0418012051323307, 1.0398335350099024, 1.0378880613568346, 1.035961247537692, 1.0340503395040126, 1.0321531915893463, 1.030268131086074, 1.0283938529703385, 1.0265293380634573, 1.0246737894123432, 1.0228265828329837, 1.0209872284639698, 1.0191553408789997, 1.0173306158529383, 1.015512812300212, 1.0137017382340565, 1.0118972398514887, 1.0100991930481613, 1.0083074968221268, 1.0065220681460363, 1.0047428379808323, 1.0029697481768363, 1.0012027490646678, 0.9994417975824309, 0.9976868558197728, 0.9959378898860214, 0.9941948690302469, 0.9924577649571675, 0.9907265512952987, 0.9890012031834539, 0.9872816969492503, 0.9855680098591335, 0.9838601199240106, 0.9821580057480903, 0.980461646411341, 0.9787710213780537, 0.9770861104257224, 0.9754068935897005, 0.9737333511201353, 0.972065463448437, 0.9704032111611653, 0.9687465749796855, 0.9670955357442986, 0.9654500744018616, 0.9638101719961141, 0.9621758096601123, 0.9605469686102989, 0.9589236301418465, 0.9573057756249908, 0.9556933865021326, 0.954086444285539, 0.9524849305555112, 0.9508888269589084, 0.9492981152079633, 0.947712777079305, 0.9461327944131639, 0.944558149112695]\n"
     ]
    }
   ],
   "source": [
    "import numpy as np\n",
    "\n",
    "def entrenar_regresion_lineal(x, y, epochs, imprimir_error_cada, alpha):\n",
    "    # Crear una matriz de características con una columna de unos para el término de sesgo\n",
    "    X = np.column_stack((x, np.ones_like(x)))\n",
    "    \n",
    "    # Inicializar parámetros\n",
    "    beta = np.zeros(2)  # Inicialización de los parámetros beta0 y beta1\n",
    "    \n",
    "    # Lista para almacenar los errores de cada iteración\n",
    "    errores_iteracion = []\n",
    "    \n",
    "    # Estructura de datos para almacenar el modelo resultante de cada iteración\n",
    "    modelo_iteracion = {}\n",
    "    \n",
    "    # Función para calcular las predicciones\n",
    "    def calcular_predicciones(X, beta):\n",
    "        return np.dot(X, beta)\n",
    "    \n",
    "    # Función para calcular el error\n",
    "    def calcular_error(y, y_pred):\n",
    "        return np.mean((y_pred - y) ** 2)\n",
    "    \n",
    "    # Función para calcular el gradiente del error respecto de los parámetros\n",
    "    def calcular_gradiente_error(X, y, y_pred):\n",
    "        gradiente = np.mean((y_pred - y) * X.T, axis=1)\n",
    "        return gradiente\n",
    "    \n",
    "    # Entrenamiento del modelo\n",
    "    for epoch in range(epochs):\n",
    "        # Calcular predicciones\n",
    "        y_pred = calcular_predicciones(X, beta)\n",
    "        \n",
    "        # Calcular error\n",
    "        error = calcular_error(y, y_pred)\n",
    "        errores_iteracion.append(error)\n",
    "        \n",
    "        # Calcular gradientes del error respecto de los parámetros\n",
    "        gradient = calcular_gradiente_error(X, y, y_pred)\n",
    "        \n",
    "        # Actualizar parámetros (descenso de gradiente)\n",
    "        beta -= alpha * gradient\n",
    "        \n",
    "        # Almacenar modelo de la iteración\n",
    "        modelo_iteracion[epoch] = beta.copy()  # Usamos copy para almacenar una copia independiente de los parámetros\n",
    "        \n",
    "        # Imprimir error cada cierto número de iteraciones\n",
    "        if (epoch + 1) % imprimir_error_cada == 0:\n",
    "            print(f\"Iteración {epoch + 1}, Error: {error}\")\n",
    "    \n",
    "    return modelo_iteracion, errores_iteracion  # Retorna el modelo de cada iteración y los errores de cada iteración\n",
    "\n",
    "# Ejemplo de uso\n",
    "x = np.array([1, 2, 3, 4, 5])\n",
    "y = np.array([2, 4, 5, 4, 5])\n",
    "\n",
    "epochs = 100\n",
    "imprimir_error_cada = 10\n",
    "alpha = 0.01\n",
    "\n",
    "modelo_iteracion, errores_iteracion = entrenar_regresion_lineal(x, y, epochs, imprimir_error_cada, alpha)\n",
    "print(\"Modelo resultante de cada iteración:\")\n",
    "for epoch, modelo in modelo_iteracion.items():\n",
    "    print(f\"Iteración {epoch + 1}: beta0={modelo[0]}, beta1={modelo[1]}\")\n",
    "print(\"Errores de cada iteración:\", errores_iteracion)\n"
   ]
  },
  {
   "cell_type": "code",
   "execution_count": 44,
   "id": "dd41c13a-04c1-4289-99d9-067765242bb1",
   "metadata": {
    "tags": []
   },
   "outputs": [
    {
     "data": {
      "image/png": "[encoded data removed]",
      "text/plain": [
       "<Figure size 640x480 with 1 Axes>"
      ]
     },
     "metadata": {},
     "output_type": "display_data"
    }
   ],
   "source": [
    "import matplotlib.pyplot as plt\n",
    "\n",
    "def graficar_error_vs_iteracion(errores):\n",
    "    plt.plot(range(1, len(errores) + 1), errores, marker='o')\n",
    "    plt.title(\"Error vs. Iteración\")\n",
    "    plt.xlabel(\"Iteración\")\n",
    "    plt.ylabel(\"Error\")\n",
    "    plt.grid(True)\n",
    "    plt.show()\n",
    "\n",
    "def graficar_modelos_evolutivos(modelos, intervalo_iteraciones):\n",
    "    for iteracion, modelo in modelos.items():\n",
    "        if (iteracion + 1) % intervalo_iteraciones == 0 or iteracion == len(modelos) - 1:\n",
    "            beta0, beta1 = modelo\n",
    "            plt.scatter(x, y, label='Datos')\n",
    "            plt.plot(x, beta0 * x + beta1, color='red', label=f'Modelo (Iteración {iteracion + 1})')\n",
    "            plt.title(f\"Modelo (Iteración {iteracion + 1})\")\n",
    "            plt.xlabel(\"x\")\n",
    "            plt.ylabel(\"y\")\n",
    "            plt.legend()\n",
    "            plt.grid(True)\n",
    "            plt.show()\n",
    "\n",
    "# Ejemplo de uso\n",
    "# Suponiendo que tienes los errores y los modelos de cada iteración almacenados en variables:\n",
    "# errores_iteracion y modelo_iteracion respectivamente\n",
    "\n",
    "# Graficar cómo cambia el error en el tiempo\n",
    "graficar_error_vs_iteracion(errores_iteracion)\n",
    "\n",
    "# Graficar cómo evoluciona el modelo entrenado en el tiempo\n",
    "# Suponiendo que 'modelo_iteracion' es un diccionario donde la clave es el número de iteración y el valor es el modelo correspondiente\n",
    "# Suponiendo que 'intervalo_iteraciones' es el número de iteraciones entre cada gráfico del modelo\n",
    "# Suponiendo que 'x' y 'y' son los datos de entrenamiento\n",
    "# Por ejemplo, si quieres graficar el modelo cada 5 iteraciones:\n",
    "# graficar_modelos_evolutivos(modelo_iteracion, intervalo_iteraciones=5)\n"
   ]
  },
  {
   "cell_type": "code",
   "execution_count": 45,
   "id": "4fc95828-169a-42b3-a73d-5bf15e051bf6",
   "metadata": {
    "tags": []
   },
   "outputs": [
    {
     "ename": "NameError",
     "evalue": "name 'x_validacion' is not defined",
     "output_type": "error",
     "traceback": [
      "\u001b[1;31m---------------------------------------------------------------------------\u001b[0m",
      "\u001b[1;31mNameError\u001b[0m                                 Traceback (most recent call last)",
      "Cell \u001b[1;32mIn[45], line 54\u001b[0m\n\u001b[0;32m     50\u001b[0m         \u001b[38;5;28mprint\u001b[39m(\u001b[38;5;124m\"\u001b[39m\u001b[38;5;124mAmbos modelos tienen el mismo error.\u001b[39m\u001b[38;5;124m\"\u001b[39m)\n\u001b[0;32m     52\u001b[0m \u001b[38;5;66;03m# Ejemplo de uso\u001b[39;00m\n\u001b[0;32m     53\u001b[0m \u001b[38;5;66;03m# Suponiendo que 'x_validacion' y 'y_validacion' son los datos de validación y 'modelo_manual' y 'modelo_scikit' son los modelos entrenados manualmente y con scikit-learn, respectivamente\u001b[39;00m\n\u001b[1;32m---> 54\u001b[0m comparar_modelos(x_validacion, y_validacion, modelo_manual, modelo_scikit)\n",
      "\u001b[1;31mNameError\u001b[0m: name 'x_validacion' is not defined"
     ]
    }
   ],
   "source": [
    "import numpy as np\n",
    "import matplotlib.pyplot as plt\n",
    "from sklearn.linear_model import LinearRegression\n",
    "\n",
    "def combinar_predicciones(modelo_manual, modelo_scikit, x):\n",
    "    # Predicciones con el modelo entrenado manualmente\n",
    "    pred_manual = modelo_manual[0] * x + modelo_manual[1]\n",
    "    \n",
    "    # Predicciones con el modelo de scikit-learn\n",
    "    pred_scikit = modelo_scikit.predict(x.reshape(-1, 1))\n",
    "    \n",
    "    # Combinación de las predicciones (promedio)\n",
    "    pred_promedio = (pred_manual + pred_scikit) / 2\n",
    "    \n",
    "    return pred_manual, pred_scikit, pred_promedio\n",
    "\n",
    "def calcular_error(predicciones, y):\n",
    "    error = np.mean((predicciones - y) ** 2)\n",
    "    return error\n",
    "\n",
    "def graficar_error(x, errores_manual, errores_scikit):\n",
    "    plt.plot(x, errores_manual, label='Error (Modelo Manual)')\n",
    "    plt.plot(x, errores_scikit, label='Error (Modelo Scikit)')\n",
    "    plt.title(\"Error de los Modelos\")\n",
    "    plt.xlabel(\"x\")\n",
    "    plt.ylabel(\"Error\")\n",
    "    plt.legend()\n",
    "    plt.grid(True)\n",
    "    plt.show()\n",
    "\n",
    "# Suponiendo que 'x_validacion' y 'y_validacion' son los datos de validación\n",
    "def comparar_modelos(x_validacion, y_validacion, modelo_manual, modelo_scikit):\n",
    "    # Predicciones combinadas\n",
    "    pred_manual, pred_scikit, pred_promedio = combinar_predicciones(modelo_manual, modelo_scikit, x_validacion)\n",
    "    \n",
    "    # Calcular errores\n",
    "    error_manual = calcular_error(pred_manual, y_validacion)\n",
    "    error_scikit = calcular_error(pred_scikit, y_validacion)\n",
    "    error_promedio = calcular_error(pred_promedio, y_validacion)\n",
    "    \n",
    "    # Graficar errores\n",
    "    graficar_error(x_validacion, error_manual, error_scikit)\n",
    "    \n",
    "    # Comparar errores y concluir cuál modelo es mejor\n",
    "    if error_manual < error_scikit:\n",
    "        print(\"El modelo entrenado manualmente tiene un error más bajo.\")\n",
    "    elif error_manual > error_scikit:\n",
    "        print(\"El modelo de scikit-learn tiene un error más bajo.\")\n",
    "    else:\n",
    "        print(\"Ambos modelos tienen el mismo error.\")\n",
    "\n",
    "# Ejemplo de uso\n",
    "# Suponiendo que 'x_validacion' y 'y_validacion' son los datos de validación y 'modelo_manual' y 'modelo_scikit' son los modelos entrenados manualmente y con scikit-learn, respectivamente\n",
    "comparar_modelos(x_validacion, y_validacion, modelo_manual, modelo_scikit)\n"
   ]
  },
  {
   "cell_type": "code",
   "execution_count": null,
   "id": "2f88b81e-bdb5-4370-9885-d44da2cd921f",
   "metadata": {},
   "outputs": [],
   "source": []
  },
  {
   "cell_type": "code",
   "execution_count": null,
   "id": "effc88d8-24f3-4a7b-8dc2-359344c18973",
   "metadata": {},
   "outputs": [],
   "source": []
  }
 ],
 "metadata": {
  "kernelspec": {
   "display_name": "Python 3 (ipykernel)",
   "language": "python",
   "name": "python3"
  },
  "language_info": {
   "codemirror_mode": {
    "name": "ipython",
    "version": 3
   },
   "file_extension": ".py",
   "mimetype": "text/x-python",
   "name": "python",
   "nbconvert_exporter": "python",
   "pygments_lexer": "ipython3",
   "version": "3.11.5"
  }
 },
 "nbformat": 4,
 "nbformat_minor": 5
}
